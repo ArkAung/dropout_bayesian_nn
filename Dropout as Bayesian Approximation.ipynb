{
 "cells": [
  {
   "cell_type": "markdown",
   "metadata": {
    "collapsed": true,
    "pycharm": {
     "name": "#%% md\n"
    }
   },
   "source": [
    "In this experiment, we are going to visualize the uncertainty of a deep neural network by\n",
    "using dropout as a mean of Bayesian Approximation [[1]](https://arxiv.org/abs/1506.02142).\n",
    "\n",
    "We are going to use the [monkey species dataset from Kaggle](https://www.kaggle.com/slothkong/10-monkey-species).\n",
    "If you want to run this notebook, clone it in your Colab, get your Kaggle API key,\n",
    "upload it on your Colab, download the Kaggle monkey dataset and start cracking."
   ]
  },
  {
   "cell_type": "markdown",
   "source": [
    "# Download Dataset from Kaggle"
   ],
   "metadata": {
    "collapsed": false
   }
  },
  {
   "cell_type": "code",
   "execution_count": null,
   "outputs": [],
   "source": [
    "! pip install -q kaggle\n",
    "from google.colab import files"
   ],
   "metadata": {
    "collapsed": false,
    "pycharm": {
     "name": "#%%\n"
    }
   }
  },
  {
   "cell_type": "markdown",
   "source": [
    "This is where you upload your Kaggle API JSON file.\n",
    "Steps to do that: Go to your Kaggle account and look for API token generation section.\n",
    "Expire your previous tokens (if you any of them) and then, create a new token. You can\n",
    "just create a new token without expiring your previous tokens if you wish too.\n",
    "This will download a `Kaggle.json` file. Upload this file in the following step."
   ],
   "metadata": {
    "collapsed": false
   }
  },
  {
   "cell_type": "code",
   "execution_count": null,
   "outputs": [],
   "source": [
    "# Run this cell and press Browse to upload Kaggle.json file\n",
    "files.upload()"
   ],
   "metadata": {
    "collapsed": false,
    "pycharm": {
     "name": "#%%\n"
    }
   }
  },
  {
   "cell_type": "markdown",
   "source": [
    "### Download local copy of monkey dataset"
   ],
   "metadata": {
    "collapsed": false,
    "pycharm": {
     "name": "#%% md\n"
    }
   }
  },
  {
   "cell_type": "code",
   "execution_count": null,
   "outputs": [],
   "source": [
    "! mkdir ~/.kaggle\n",
    "! mv kaggle.json ~/.kaggle/\n",
    "! chmod 600 ~/.kaggle/kaggle.json\n",
    "! kaggle datasets download -d slothkong/10-monkey-species\n",
    "! mkdir monkey_dataset\n",
    "! unzip 10-monkey-species.zip -d monkey_dataset"
   ],
   "metadata": {
    "collapsed": false,
    "pycharm": {
     "name": "#%%\n"
    }
   }
  }
 ],
 "metadata": {
  "kernelspec": {
   "display_name": "Python 3",
   "language": "python",
   "name": "python3"
  },
  "language_info": {
   "codemirror_mode": {
    "name": "ipython",
    "version": 2
   },
   "file_extension": ".py",
   "mimetype": "text/x-python",
   "name": "python",
   "nbconvert_exporter": "python",
   "pygments_lexer": "ipython2",
   "version": "2.7.6"
  }
 },
 "nbformat": 4,
 "nbformat_minor": 0
}