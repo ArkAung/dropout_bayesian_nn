{
 "cells": [
  {
   "cell_type": "markdown",
   "metadata": {
    "pycharm": {
     "name": "#%% md\n"
    }
   },
   "source": [
    "In this experiment, we are going to visualize the uncertainty of a deep neural network by\n",
    "using dropout as a mean of Bayesian Approximation [[1]](https://arxiv.org/abs/1506.02142).\n",
    "\n",
    "We are going to use the [monkey species dataset from Kaggle](https://www.kaggle.com/slothkong/10-monkey-species).\n",
    "If you want to run this notebook, clone it in your Colab, get your Kaggle API key,\n",
    "upload it on your Colab, download the Kaggle monkey dataset and start cracking."
   ]
  },
  {
   "cell_type": "markdown",
   "metadata": {},
   "source": [
    "# Download Dataset from Kaggle"
   ]
  },
  {
   "cell_type": "code",
   "execution_count": null,
   "metadata": {
    "collapsed": false,
    "jupyter": {
     "outputs_hidden": false
    },
    "pycharm": {
     "name": "#%%\n"
    }
   },
   "outputs": [],
   "source": [
    "! pip install -q kaggle\n",
    "from google.colab import files"
   ]
  },
  {
   "cell_type": "markdown",
   "metadata": {},
   "source": [
    "This is where you upload your Kaggle API JSON file.\n",
    "Steps to do that: Go to your Kaggle account and look for API token generation section.\n",
    "Expire your previous tokens (if you any of them) and then, create a new token. You can\n",
    "just create a new token without expiring your previous tokens if you wish too.\n",
    "This will download a `Kaggle.json` file. Upload this file in the following step."
   ]
  },
  {
   "cell_type": "code",
   "execution_count": null,
   "metadata": {
    "collapsed": false,
    "jupyter": {
     "outputs_hidden": false
    },
    "pycharm": {
     "name": "#%%\n"
    }
   },
   "outputs": [],
   "source": [
    "# Run this cell and press Browse to upload Kaggle.json file\n",
    "files.upload()"
   ]
  },
  {
   "cell_type": "markdown",
   "metadata": {
    "pycharm": {
     "name": "#%% md\n"
    }
   },
   "source": [
    "### Download local copy of monkey dataset"
   ]
  },
  {
   "cell_type": "code",
   "execution_count": null,
   "metadata": {
    "collapsed": false,
    "jupyter": {
     "outputs_hidden": false
    },
    "pycharm": {
     "name": "#%%\n"
    }
   },
   "outputs": [],
   "source": [
    "! mkdir ~/.kaggle\n",
    "! mv kaggle.json ~/.kaggle/\n",
    "! chmod 600 ~/.kaggle/kaggle.json\n",
    "! kaggle datasets download -d slothkong/10-monkey-species\n",
    "! mkdir monkey_dataset\n",
    "! unzip 10-monkey-species.zip -d monkey_dataset"
   ]
  },
  {
   "cell_type": "code",
   "execution_count": null,
   "metadata": {},
   "outputs": [],
   "source": [
    "# Disable eager execution for K.function() with learning_phase to work properly\n",
    "tf.compat.v1.disable_eager_execution()"
   ]
  },
  {
   "cell_type": "markdown",
   "metadata": {},
   "source": [
    "# Preparation"
   ]
  },
  {
   "cell_type": "code",
   "execution_count": 1,
   "metadata": {},
   "outputs": [],
   "source": [
    "from network import Network\n",
    "from plotting import plot_grid, visualize_probdist\n",
    "from dataset import Dataset\n",
    "\n",
    "import pandas as pd\n",
    "import numpy as np\n",
    "import matplotlib.pyplot as plt\n",
    "%matplotlib inline"
   ]
  },
  {
   "cell_type": "code",
   "execution_count": null,
   "metadata": {},
   "outputs": [],
   "source": [
    "IMAGE_SHAPE = (224, 224, 3)\n",
    "BATCH_SIZE = 32\n",
    "\n",
    "train_dir = 'monkey_dataset/training/training'\n",
    "test_dir = 'monkey_dataset/validation/validation'\n",
    "\n",
    "# The CSV file contains spaces for data fields and column names which we need to remove.\n",
    "monkey_labels = pd.read_csv(\"monkey_dataset/monkey_labels.txt\")\n",
    "monkey_labels.columns = [c.strip() for c in monkey_labels.columns]\n",
    "monkey_labels['Label'] = monkey_labels['Label'].str.strip()\n",
    "monkey_labels['Common Name'] = monkey_labels['Common Name'].str.strip()"
   ]
  },
  {
   "cell_type": "markdown",
   "metadata": {},
   "source": [
    "### Plot Training and Testing Data Count Distribution"
   ]
  },
  {
   "cell_type": "code",
   "execution_count": null,
   "metadata": {},
   "outputs": [],
   "source": [
    "plt.figure(figsize=(10,4))\n",
    "\n",
    "plt.bar(range(len(monkey_labels['Train Images'])), monkey_labels['Train Images'])\n",
    "plt.bar(range(len(monkey_labels['Validation Images'])), monkey_labels['Validation Images'])\n",
    "plt.xticks(range(len(monkey_labels['Common Name'])), monkey_labels['Common Name'], rotation=90)\n",
    "plt.xlabel('Monkey Types')\n",
    "plt.ylabel('Count')\n",
    "plt.title('Training and Testing Data Distribution')\n",
    "plt.show()"
   ]
  },
  {
   "cell_type": "markdown",
   "metadata": {},
   "source": [
    "# Visualize Monkeys in the Dataset"
   ]
  },
  {
   "cell_type": "code",
   "execution_count": null,
   "metadata": {},
   "outputs": [],
   "source": [
    "# [Class Folder Name]: [Common Name]"
   ]
  },
  {
   "cell_type": "code",
   "execution_count": null,
   "metadata": {},
   "outputs": [],
   "source": [
    "plot_grid(rows=2, cols=5, figsize=(16,8),\n",
    "          image_root_path=train_dir, labels=monkey_labels, data_shape=IMAGE_SHAPE[:2])"
   ]
  },
  {
   "cell_type": "markdown",
   "metadata": {},
   "source": [
    "# Training"
   ]
  },
  {
   "cell_type": "markdown",
   "metadata": {},
   "source": [
    "We want to train some classes of monkeys and see how our model performs for classes of monkeys which it was never trained before (testing out of distribution uncertainty). But this is not as extreme as testing out on completely different looking data samples (like objects, and other animals)"
   ]
  },
  {
   "cell_type": "code",
   "execution_count": 7,
   "metadata": {},
   "outputs": [],
   "source": [
    "# Selecting classes of monkey to train\n",
    "class_filter = ['n0', 'n1', 'n2', 'n3', 'n4']\n",
    "label_mapping = monkey_labels['Common Name'][:5].to_dict() # Get class folder name -> common name mapping by taking the first five rows from dataframe"
   ]
  },
  {
   "cell_type": "code",
   "execution_count": 8,
   "metadata": {},
   "outputs": [
    {
     "name": "stdout",
     "output_type": "stream",
     "text": [
      "Found 443 images belonging to 5 classes.\n",
      "Found 0 images belonging to 5 classes.\n",
      "Found 137 images belonging to 5 classes.\n"
     ]
    }
   ],
   "source": [
    "train_dataset = Dataset(path=train_dir, target_size=IMAGE_SHAPE[:2], dataset_type=Dataset.TRAIN,\n",
    "                        batch_size=BATCH_SIZE,\n",
    "                        class_filter=class_filter,\n",
    "                        label_mapping=label_mapping)\n",
    "\n",
    "val_dataset = Dataset(path=train_dir, target_size=IMAGE_SHAPE[:2], dataset_type=Dataset.VAL,\n",
    "                        batch_size=BATCH_SIZE,\n",
    "                        class_filter=class_filter,\n",
    "                        label_mapping=label_mapping)\n",
    "\n",
    "test_dataset = Dataset(path=test_dir, target_size=IMAGE_SHAPE[:2], dataset_type=Dataset.TEST,\n",
    "                       batch_size=BATCH_SIZE,\n",
    "                       class_filter=class_filter,\n",
    "                       label_mapping=label_mapping)"
   ]
  },
  {
   "cell_type": "code",
   "execution_count": 9,
   "metadata": {},
   "outputs": [],
   "source": [
    "net = Network(input_shape=IMAGE_SHAPE, dropout_rate=0.2, num_classes=len(class_filter))"
   ]
  },
  {
   "cell_type": "code",
   "execution_count": 10,
   "metadata": {},
   "outputs": [
    {
     "name": "stdout",
     "output_type": "stream",
     "text": [
      "Epoch 1/2\n",
      "WARNING:tensorflow:Early stopping conditioned on metric `val_accuracy` which is not available. Available metrics are: loss,accuracy\n",
      "14/13 - 31s - loss: 1.7165 - accuracy: 0.2122\n",
      "Epoch 2/2\n",
      "WARNING:tensorflow:Early stopping conditioned on metric `val_accuracy` which is not available. Available metrics are: loss,accuracy\n",
      "14/13 - 29s - loss: 1.5480 - accuracy: 0.3341\n"
     ]
    }
   ],
   "source": [
    "net.train_model(train_dataset, val_dataset, epochs=2)"
   ]
  },
  {
   "cell_type": "code",
   "execution_count": 23,
   "metadata": {},
   "outputs": [],
   "source": [
    "y_prob_preds = net.model.predict(test_dataset.datagenerator)\n",
    "y_preds = np.argmax(y_prob_preds, axis=1)"
   ]
  },
  {
   "cell_type": "code",
   "execution_count": 19,
   "metadata": {},
   "outputs": [],
   "source": [
    "label_test = test_dataset.datagenerator.classes"
   ]
  },
  {
   "cell_type": "code",
   "execution_count": 21,
   "metadata": {},
   "outputs": [
    {
     "ename": "ValueError",
     "evalue": "Classification metrics can't handle a mix of multiclass and continuous-multioutput targets",
     "output_type": "error",
     "traceback": [
      "\u001b[0;31m---------------------------------------------------------------------------\u001b[0m",
      "\u001b[0;31mValueError\u001b[0m                                Traceback (most recent call last)",
      "\u001b[0;32m<ipython-input-21-cf9768836c07>\u001b[0m in \u001b[0;36m<module>\u001b[0;34m\u001b[0m\n\u001b[1;32m      1\u001b[0m \u001b[0;32mfrom\u001b[0m \u001b[0msklearn\u001b[0m\u001b[0;34m.\u001b[0m\u001b[0mmetrics\u001b[0m \u001b[0;32mimport\u001b[0m \u001b[0mclassification_report\u001b[0m\u001b[0;34m\u001b[0m\u001b[0;34m\u001b[0m\u001b[0m\n\u001b[0;32m----> 2\u001b[0;31m \u001b[0mprint\u001b[0m\u001b[0;34m(\u001b[0m\u001b[0mclassification_report\u001b[0m\u001b[0;34m(\u001b[0m\u001b[0mlabel_test\u001b[0m\u001b[0;34m,\u001b[0m \u001b[0my_preds\u001b[0m\u001b[0;34m)\u001b[0m\u001b[0;34m)\u001b[0m\u001b[0;34m\u001b[0m\u001b[0;34m\u001b[0m\u001b[0m\n\u001b[0m",
      "\u001b[0;32m~/anaconda3/envs/tensorflow/lib/python3.8/site-packages/sklearn/metrics/_classification.py\u001b[0m in \u001b[0;36mclassification_report\u001b[0;34m(y_true, y_pred, labels, target_names, sample_weight, digits, output_dict, zero_division)\u001b[0m\n\u001b[1;32m   1969\u001b[0m     \"\"\"\n\u001b[1;32m   1970\u001b[0m \u001b[0;34m\u001b[0m\u001b[0m\n\u001b[0;32m-> 1971\u001b[0;31m     \u001b[0my_type\u001b[0m\u001b[0;34m,\u001b[0m \u001b[0my_true\u001b[0m\u001b[0;34m,\u001b[0m \u001b[0my_pred\u001b[0m \u001b[0;34m=\u001b[0m \u001b[0m_check_targets\u001b[0m\u001b[0;34m(\u001b[0m\u001b[0my_true\u001b[0m\u001b[0;34m,\u001b[0m \u001b[0my_pred\u001b[0m\u001b[0;34m)\u001b[0m\u001b[0;34m\u001b[0m\u001b[0;34m\u001b[0m\u001b[0m\n\u001b[0m\u001b[1;32m   1972\u001b[0m \u001b[0;34m\u001b[0m\u001b[0m\n\u001b[1;32m   1973\u001b[0m     \u001b[0mlabels_given\u001b[0m \u001b[0;34m=\u001b[0m \u001b[0;32mTrue\u001b[0m\u001b[0;34m\u001b[0m\u001b[0;34m\u001b[0m\u001b[0m\n",
      "\u001b[0;32m~/anaconda3/envs/tensorflow/lib/python3.8/site-packages/sklearn/metrics/_classification.py\u001b[0m in \u001b[0;36m_check_targets\u001b[0;34m(y_true, y_pred)\u001b[0m\n\u001b[1;32m     87\u001b[0m \u001b[0;34m\u001b[0m\u001b[0m\n\u001b[1;32m     88\u001b[0m     \u001b[0;32mif\u001b[0m \u001b[0mlen\u001b[0m\u001b[0;34m(\u001b[0m\u001b[0my_type\u001b[0m\u001b[0;34m)\u001b[0m \u001b[0;34m>\u001b[0m \u001b[0;36m1\u001b[0m\u001b[0;34m:\u001b[0m\u001b[0;34m\u001b[0m\u001b[0;34m\u001b[0m\u001b[0m\n\u001b[0;32m---> 89\u001b[0;31m         raise ValueError(\"Classification metrics can't handle a mix of {0} \"\n\u001b[0m\u001b[1;32m     90\u001b[0m                          \"and {1} targets\".format(type_true, type_pred))\n\u001b[1;32m     91\u001b[0m \u001b[0;34m\u001b[0m\u001b[0m\n",
      "\u001b[0;31mValueError\u001b[0m: Classification metrics can't handle a mix of multiclass and continuous-multioutput targets"
     ]
    }
   ],
   "source": [
    "from sklearn.metrics import classification_report\n",
    "print(classification_report(label_test, y_preds))"
   ]
  },
  {
   "cell_type": "code",
   "execution_count": 22,
   "metadata": {},
   "outputs": [
    {
     "data": {
      "text/plain": [
       "array([[0.39677206, 0.19933012, 0.14869651, 0.13312964, 0.1220717 ],\n",
       "       [0.32058245, 0.20760886, 0.16841002, 0.17520942, 0.12818931],\n",
       "       [0.39614293, 0.21668513, 0.1926044 , 0.09030802, 0.10425956],\n",
       "       [0.40009305, 0.25548863, 0.20827076, 0.04939612, 0.08675144],\n",
       "       [0.18949142, 0.18877243, 0.1554422 , 0.31760627, 0.14868772],\n",
       "       [0.2047937 , 0.14222284, 0.1191541 , 0.4352787 , 0.09855054],\n",
       "       [0.4470671 , 0.20086971, 0.1721299 , 0.06234588, 0.11758734],\n",
       "       [0.3750311 , 0.2159591 , 0.2107952 , 0.0865964 , 0.11161818],\n",
       "       [0.46867475, 0.19881521, 0.20819958, 0.02171258, 0.10259785],\n",
       "       [0.41669363, 0.21390252, 0.19727474, 0.05752435, 0.11460468],\n",
       "       [0.45374054, 0.23546465, 0.18817458, 0.03460193, 0.08801827],\n",
       "       [0.21114376, 0.21474351, 0.17586592, 0.29236385, 0.10588299],\n",
       "       [0.66144454, 0.11692709, 0.10132296, 0.06560969, 0.05469572],\n",
       "       [0.4801554 , 0.18505664, 0.14675723, 0.09802983, 0.09000088],\n",
       "       [0.13951156, 0.18626226, 0.18854491, 0.32441518, 0.16126603],\n",
       "       [0.33702168, 0.20744576, 0.15203483, 0.1997068 , 0.10379092],\n",
       "       [0.23319095, 0.21723667, 0.1785045 , 0.2227191 , 0.14834876],\n",
       "       [0.15333584, 0.1842029 , 0.16485038, 0.3489535 , 0.14865741],\n",
       "       [0.18683718, 0.22969715, 0.19494095, 0.25309998, 0.13542478],\n",
       "       [0.28106856, 0.21608189, 0.18415229, 0.19764917, 0.12104806],\n",
       "       [0.20797321, 0.21527265, 0.18694624, 0.2409094 , 0.14889848],\n",
       "       [0.33246794, 0.20174529, 0.18451694, 0.15474522, 0.1265245 ],\n",
       "       [0.33004618, 0.22886442, 0.2096765 , 0.12349728, 0.10791574],\n",
       "       [0.39540347, 0.16153045, 0.14251149, 0.19257183, 0.10798278],\n",
       "       [0.36094257, 0.2513379 , 0.21055144, 0.0708556 , 0.10631239],\n",
       "       [0.39677206, 0.19933012, 0.14869651, 0.13312964, 0.1220717 ],\n",
       "       [0.12704597, 0.19007416, 0.17894985, 0.3541965 , 0.14973356],\n",
       "       [0.157464  , 0.30953905, 0.25025374, 0.13856523, 0.144178  ],\n",
       "       [0.13024357, 0.18579593, 0.1644155 , 0.3764753 , 0.14306968],\n",
       "       [0.13454857, 0.20804241, 0.1954697 , 0.29678342, 0.16515584],\n",
       "       [0.25124192, 0.1947131 , 0.16009285, 0.27308488, 0.12086733],\n",
       "       [0.13105407, 0.26071662, 0.23311456, 0.21781021, 0.15730453],\n",
       "       [0.2140226 , 0.24084431, 0.21812515, 0.19442758, 0.13258043],\n",
       "       [0.19270945, 0.28459755, 0.26353586, 0.10295019, 0.15620688],\n",
       "       [0.14790997, 0.22654432, 0.1959563 , 0.28469965, 0.14488974],\n",
       "       [0.2767125 , 0.20703226, 0.17314705, 0.18700631, 0.15610185],\n",
       "       [0.15894383, 0.23730484, 0.21102466, 0.25219464, 0.14053205],\n",
       "       [0.20815222, 0.1655631 , 0.12967564, 0.36897796, 0.12763108],\n",
       "       [0.11987941, 0.2434914 , 0.23715703, 0.23083948, 0.16863273],\n",
       "       [0.14700857, 0.20731057, 0.21047461, 0.2789869 , 0.15621926],\n",
       "       [0.1401984 , 0.25968212, 0.22948475, 0.20610468, 0.16453004],\n",
       "       [0.16796777, 0.21064262, 0.18881926, 0.29745948, 0.13511086],\n",
       "       [0.17559575, 0.26509133, 0.22972408, 0.18525115, 0.14433776],\n",
       "       [0.17835374, 0.24202068, 0.21703747, 0.21677384, 0.14581425],\n",
       "       [0.11989545, 0.18457726, 0.16257915, 0.40051696, 0.13243122],\n",
       "       [0.20815222, 0.1655631 , 0.12967564, 0.36897796, 0.12763108],\n",
       "       [0.16037183, 0.19620848, 0.18149672, 0.31699747, 0.14492561],\n",
       "       [0.13721254, 0.18564445, 0.17219727, 0.34800237, 0.15694335],\n",
       "       [0.1462963 , 0.22503018, 0.19849229, 0.2730166 , 0.15716456],\n",
       "       [0.14249223, 0.17324169, 0.15773426, 0.38274792, 0.14378385],\n",
       "       [0.1543025 , 0.25069806, 0.22689673, 0.21453987, 0.15356277],\n",
       "       [0.21478453, 0.2672495 , 0.21881406, 0.15727371, 0.14187816],\n",
       "       [0.11546329, 0.21667694, 0.20577171, 0.30491352, 0.15717447],\n",
       "       [0.14700857, 0.20731057, 0.21047461, 0.2789869 , 0.15621926],\n",
       "       [0.1417887 , 0.22977664, 0.24224877, 0.23203002, 0.15415585],\n",
       "       [0.2529627 , 0.24090903, 0.2620983 , 0.10914261, 0.13488735],\n",
       "       [0.10588775, 0.24989507, 0.26479295, 0.20742759, 0.1719966 ],\n",
       "       [0.11518086, 0.2685183 , 0.26289427, 0.20563903, 0.14776751],\n",
       "       [0.12346559, 0.21428019, 0.21857229, 0.29599035, 0.14769161],\n",
       "       [0.12510602, 0.2268055 , 0.22664957, 0.25336277, 0.16807616],\n",
       "       [0.1399417 , 0.20086624, 0.20243207, 0.28646716, 0.17029287],\n",
       "       [0.13674206, 0.1870697 , 0.18256931, 0.3850791 , 0.10853987],\n",
       "       [0.10587864, 0.23117943, 0.2523172 , 0.24464977, 0.16597499],\n",
       "       [0.13478482, 0.23865148, 0.24998587, 0.20539494, 0.17118292],\n",
       "       [0.16715172, 0.24517234, 0.24338783, 0.18103543, 0.16325262],\n",
       "       [0.13015957, 0.22782628, 0.21419191, 0.2608511 , 0.16697122],\n",
       "       [0.1425374 , 0.24993657, 0.22578867, 0.22770126, 0.15403606],\n",
       "       [0.23412564, 0.27394062, 0.26843563, 0.09281955, 0.13067853],\n",
       "       [0.11653455, 0.20402656, 0.21907808, 0.30359012, 0.15677062],\n",
       "       [0.12005778, 0.2475464 , 0.27025124, 0.1903716 , 0.17177303],\n",
       "       [0.1530802 , 0.2421851 , 0.25190854, 0.19954768, 0.1532785 ],\n",
       "       [0.11293194, 0.23466976, 0.23343758, 0.25259662, 0.1663641 ],\n",
       "       [0.30879623, 0.21584223, 0.23637088, 0.1297917 , 0.10919907],\n",
       "       [0.32767978, 0.24499664, 0.25348032, 0.03876088, 0.13508238],\n",
       "       [0.19978964, 0.24957412, 0.26185298, 0.12252998, 0.16625328],\n",
       "       [0.12622644, 0.22205442, 0.22367726, 0.2611661 , 0.16687575],\n",
       "       [0.22080952, 0.24634886, 0.24472405, 0.1237779 , 0.16433966],\n",
       "       [0.12023024, 0.222381  , 0.24283129, 0.23750295, 0.17705448],\n",
       "       [0.14847983, 0.2363861 , 0.24121307, 0.21651295, 0.15740807],\n",
       "       [0.12357479, 0.21663812, 0.2209089 , 0.26460427, 0.17427401],\n",
       "       [0.2741291 , 0.27806413, 0.27611008, 0.06016798, 0.11152866],\n",
       "       [0.16375911, 0.22366343, 0.19542575, 0.28843215, 0.12871952],\n",
       "       [0.12841372, 0.1731974 , 0.15163432, 0.41359133, 0.13316324],\n",
       "       [0.16768534, 0.15841569, 0.1444487 , 0.39646897, 0.13298133],\n",
       "       [0.19821393, 0.20087965, 0.16351302, 0.3026477 , 0.13474572],\n",
       "       [0.15441656, 0.18544284, 0.16170976, 0.35122705, 0.1472038 ],\n",
       "       [0.13429719, 0.17422582, 0.14272268, 0.42167196, 0.12708223],\n",
       "       [0.16454215, 0.19366474, 0.1774244 , 0.3153866 , 0.14898214],\n",
       "       [0.10952786, 0.18822215, 0.17953433, 0.37940726, 0.14330839],\n",
       "       [0.12451437, 0.19817692, 0.18222828, 0.34236857, 0.15271181],\n",
       "       [0.11167462, 0.1655964 , 0.16086198, 0.422299  , 0.13956802],\n",
       "       [0.16989163, 0.20391387, 0.17688218, 0.30024523, 0.14906715],\n",
       "       [0.13070112, 0.18837968, 0.1744521 , 0.3608174 , 0.14564964],\n",
       "       [0.12635338, 0.175846  , 0.17500915, 0.37018603, 0.15260552],\n",
       "       [0.11719947, 0.18025383, 0.16411227, 0.39417747, 0.14425701],\n",
       "       [0.13533103, 0.17575398, 0.1593713 , 0.3862203 , 0.14332344],\n",
       "       [0.12463643, 0.16877244, 0.1580448 , 0.4080514 , 0.14049493],\n",
       "       [0.15369421, 0.17111374, 0.1319023 , 0.41979164, 0.12349817],\n",
       "       [0.14227146, 0.17777   , 0.16253884, 0.36921215, 0.14820747],\n",
       "       [0.14465214, 0.18700531, 0.15509439, 0.373457  , 0.13979116],\n",
       "       [0.10957725, 0.18028243, 0.17766362, 0.38230073, 0.15017597],\n",
       "       [0.14298253, 0.20496704, 0.20726413, 0.28486398, 0.15992229],\n",
       "       [0.12157013, 0.18775156, 0.17903394, 0.35707593, 0.15456846],\n",
       "       [0.1198507 , 0.1923307 , 0.17869079, 0.37340754, 0.13572022],\n",
       "       [0.10675823, 0.1873514 , 0.1876477 , 0.36913204, 0.14911057],\n",
       "       [0.12354056, 0.16373326, 0.15476364, 0.42195594, 0.13600667],\n",
       "       [0.22001429, 0.21720338, 0.1825076 , 0.23575696, 0.14451782],\n",
       "       [0.14320643, 0.19120543, 0.16828138, 0.34162632, 0.15568043],\n",
       "       [0.13453461, 0.19007038, 0.17315829, 0.3575415 , 0.14469522],\n",
       "       [0.13079725, 0.18788534, 0.17515706, 0.359231  , 0.1469293 ],\n",
       "       [0.11348724, 0.18160963, 0.16776003, 0.40030104, 0.13684203],\n",
       "       [0.18109468, 0.2269658 , 0.22261746, 0.19014403, 0.17917798],\n",
       "       [0.18200308, 0.210346  , 0.18185712, 0.26498795, 0.16080582],\n",
       "       [0.16124056, 0.28834525, 0.29124475, 0.09888943, 0.16027991],\n",
       "       [0.12334333, 0.26812932, 0.25219107, 0.19723913, 0.15909715],\n",
       "       [0.13996817, 0.27008247, 0.27217072, 0.15430799, 0.16347058],\n",
       "       [0.19927306, 0.18695542, 0.16880025, 0.2949937 , 0.14997754],\n",
       "       [0.18479507, 0.22621346, 0.21484424, 0.23711082, 0.13703649],\n",
       "       [0.20051658, 0.25623643, 0.2336366 , 0.16800421, 0.14160624],\n",
       "       [0.15176553, 0.22465496, 0.20538004, 0.26935574, 0.14884375],\n",
       "       [0.24662535, 0.23835398, 0.23208342, 0.14192177, 0.1410155 ],\n",
       "       [0.11479773, 0.19749208, 0.18792522, 0.33856013, 0.16122487],\n",
       "       [0.1343707 , 0.25322762, 0.23769356, 0.22192731, 0.1527808 ],\n",
       "       [0.2121154 , 0.26730767, 0.26371768, 0.10676995, 0.15008926],\n",
       "       [0.18841894, 0.2559505 , 0.23399885, 0.1628102 , 0.15882148],\n",
       "       [0.12435993, 0.23434879, 0.25434893, 0.21248318, 0.17445919],\n",
       "       [0.10935429, 0.22283633, 0.2085539 , 0.28620473, 0.17305085],\n",
       "       [0.1654124 , 0.18305945, 0.16638204, 0.33560705, 0.14953911],\n",
       "       [0.13302541, 0.22464737, 0.2140591 , 0.2537125 , 0.17455563],\n",
       "       [0.18879437, 0.26858732, 0.24635094, 0.13845646, 0.1578109 ],\n",
       "       [0.17933856, 0.20389411, 0.19178809, 0.2508919 , 0.1740873 ],\n",
       "       [0.16222677, 0.24752966, 0.248411  , 0.16117744, 0.18065517],\n",
       "       [0.23255599, 0.21081004, 0.19978663, 0.21963175, 0.13721558],\n",
       "       [0.19029428, 0.1945696 , 0.15891409, 0.32394105, 0.13228102],\n",
       "       [0.15067098, 0.22977774, 0.19783737, 0.26310432, 0.15860957],\n",
       "       [0.15132323, 0.23529021, 0.19448395, 0.28925404, 0.12964855],\n",
       "       [0.15472956, 0.25133318, 0.24072805, 0.18902664, 0.16418262]],\n",
       "      dtype=float32)"
      ]
     },
     "execution_count": 22,
     "metadata": {},
     "output_type": "execute_result"
    }
   ],
   "source": [
    "y_preds"
   ]
  },
  {
   "cell_type": "code",
   "execution_count": null,
   "metadata": {},
   "outputs": [],
   "source": []
  }
 ],
 "metadata": {
  "kernelspec": {
   "display_name": "Python 3",
   "language": "python",
   "name": "python3"
  },
  "language_info": {
   "codemirror_mode": {
    "name": "ipython",
    "version": 3
   },
   "file_extension": ".py",
   "mimetype": "text/x-python",
   "name": "python",
   "nbconvert_exporter": "python",
   "pygments_lexer": "ipython3",
   "version": "3.8.2"
  }
 },
 "nbformat": 4,
 "nbformat_minor": 4
}
